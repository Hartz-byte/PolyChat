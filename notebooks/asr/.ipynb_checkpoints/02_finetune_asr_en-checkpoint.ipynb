{
 "cells": [
  {
   "cell_type": "code",
   "execution_count": null,
   "id": "20d48b4e-6d09-46f4-b04e-fb4ce201d2dd",
   "metadata": {},
   "outputs": [],
   "source": [
    "# Imports\n",
    "import os\n",
    "from datasets import load_dataset, DatasetDict, Audio\n",
    "import pandas as pd\n",
    "import datasets\n",
    "from transformers import Wav2Vec2Processor, Wav2Vec2ForCTC, TrainingArguments, Trainer\n",
    "import torch\n",
    "import numpy as np\n",
    "from jiwer import wer, cer\n",
    "from tqdm import tqdm"
   ]
  },
  {
   "cell_type": "code",
   "execution_count": null,
   "id": "56353fab-fed3-487d-a67a-5de0c6937bc4",
   "metadata": {},
   "outputs": [],
   "source": [
    "# CONFIGURATION\n",
    "LANG = 'en'\n",
    "DATA_BASE = '../../data/asr_processed/en'\n",
    "MODEL_NAME = 'facebook/wav2vec2-large-960h'\n",
    "SAVE_DIR = '../../models/asr/en'\n",
    "os.makedirs(SAVE_DIR, exist_ok=True)\n",
    "SPLITS = ['train', 'val', 'test']"
   ]
  },
  {
   "cell_type": "code",
   "execution_count": null,
   "id": "9e27e9a5-327c-4d85-84b9-011627284a11",
   "metadata": {},
   "outputs": [],
   "source": [
    "# LOAD CSVs AS DATASETS\n",
    "data_files = {split: os.path.join(DATA_BASE, f\"{split}.csv\") for split in SPLITS}\n",
    "dataset = DatasetDict({\n",
    "    split: datasets.load_dataset('csv', data_files={split: path}, split=split)\n",
    "    for split, path in data_files.items()\n",
    "})\n",
    "\n",
    "for split in SPLITS:\n",
    "    dataset[split] = dataset[split].cast_column(\"path\", datasets.Value(\"string\"))\n",
    "\n",
    "# Attach raw audio using relative path\n",
    "def add_full_path(batch):\n",
    "    batch[\"audio\"] = [os.path.join('../../data/asr/en/train', x) for x in batch[\"path\"]]\n",
    "    return batch\n",
    "\n",
    "dataset = dataset.map(add_full_path, batched=True)\n",
    "dataset = dataset.cast_column(\"audio\", Audio(sampling_rate=16000))"
   ]
  },
  {
   "cell_type": "code",
   "execution_count": null,
   "id": "451dcc04-e431-4c4c-950c-a903fc21f14d",
   "metadata": {},
   "outputs": [],
   "source": [
    "# PREPROCESSING FOR Wav2Vec2\n",
    "processor = Wav2Vec2Processor.from_pretrained(MODEL_NAME)\n",
    "\n",
    "# Build vocabulary from dataset transcripts\n",
    "vocab_set = set()\n",
    "for item in tqdm(dataset['train'], desc=\"Building vocabulary\"):\n",
    "    vocab_set.update(list(item['sentence'].lower()))\n",
    "\n",
    "vocab_set = sorted(vocab_set)\n",
    "vocab_dict = {v: k for k, v in enumerate(vocab_set)}\n",
    "processor.tokenizer.add_tokens(list(vocab_set))\n",
    "\n",
    "def prepare_batch(batch):\n",
    "    audio = batch[\"audio\"]\n",
    "    input_values = processor(audio[\"array\"], sampling_rate=audio[\"sampling_rate\"]).input_values\n",
    "    with processor.as_target_processor():\n",
    "        labels = processor(batch[\"sentence\"]).input_ids\n",
    "    return {\"input_values\": input_values[0], \"labels\": labels}\n",
    "\n",
    "print(\"Tokenizing dataset...\")\n",
    "dataset = dataset.map(prepare_batch, remove_columns=dataset[\"train\"].column_names, num_proc=4)"
   ]
  },
  {
   "cell_type": "code",
   "execution_count": null,
   "id": "1a82bbd2-8118-47ac-a1e4-3045c84b8ac6",
   "metadata": {},
   "outputs": [],
   "source": [
    "# MODEL LOADING\n",
    "model = Wav2Vec2ForCTC.from_pretrained(\n",
    "    MODEL_NAME,\n",
    "    vocab_size=len(processor.tokenizer),\n",
    "    ignore_mismatched_sizes=True,\n",
    ")\n",
    "model.resize_token_embeddings(len(processor.tokenizer))"
   ]
  },
  {
   "cell_type": "code",
   "execution_count": null,
   "id": "629eb6de-e4d3-49a7-9cc2-28e2d1b8b28d",
   "metadata": {},
   "outputs": [],
   "source": [
    "# DATA COLLATOR\n",
    "from dataclasses import dataclass\n",
    "from typing import Dict, List, Union\n",
    "\n",
    "@dataclass\n",
    "class DataCollatorCTC:\n",
    "    processor: Wav2Vec2Processor\n",
    "    padding: Union[bool, str] = True\n",
    "\n",
    "    def __call__(self, features):\n",
    "        input_features = [{\"input_values\": feature[\"input_values\"]} for feature in features]\n",
    "        label_features = [{\"input_ids\": feature[\"labels\"]} for feature in features]\n",
    "        batch = self.processor.pad(\n",
    "            input_features,\n",
    "            padding=self.padding,\n",
    "            return_tensors=\"pt\"\n",
    "        )\n",
    "        with self.processor.as_target_processor():\n",
    "            labels_batch = self.processor.pad(\n",
    "                label_features,\n",
    "                padding=self.padding,\n",
    "                return_tensors=\"pt\"\n",
    "            )\n",
    "        batch[\"labels\"] = labels_batch[\"input_ids\"].masked_fill(labels_batch[\"input_ids\"] == self.processor.tokenizer.pad_token_id, -100)\n",
    "        return batch"
   ]
  },
  {
   "cell_type": "code",
   "execution_count": null,
   "id": "4e0943ce-acf7-4d9f-b6ca-7f830a556019",
   "metadata": {},
   "outputs": [],
   "source": [
    "# Training Arguments\n",
    "training_args = TrainingArguments(\n",
    "    output_dir=SAVE_DIR,\n",
    "    group_by_length=True,\n",
    "    per_device_train_batch_size=8,\n",
    "    per_device_eval_batch_size=4,\n",
    "    evaluation_strategy=\"steps\",\n",
    "    num_train_epochs=10,\n",
    "    save_steps=1000,\n",
    "    eval_steps=500,\n",
    "    logging_steps=100,\n",
    "    learning_rate=1e-4,\n",
    "    warmup_steps=500,\n",
    "    save_total_limit=2,\n",
    "    fp16=torch.cuda.is_available(),\n",
    "    load_best_model_at_end=True,\n",
    "    metric_for_best_model=\"wer\",\n",
    "    greater_is_better=False,\n",
    "    push_to_hub=False,\n",
    ")"
   ]
  },
  {
   "cell_type": "code",
   "execution_count": null,
   "id": "981d9088-2f9c-474d-b227-abf5b8ec3e8b",
   "metadata": {},
   "outputs": [],
   "source": [
    "# METRICS\n",
    "def compute_metrics(pred):\n",
    "    pred_ids = pred.predictions\n",
    "    label_ids = pred.label_ids\n",
    "\n",
    "    pred_str = processor.batch_decode(pred_ids, skip_special_tokens=True)\n",
    "    label_ids[label_ids == -100] = processor.tokenizer.pad_token_id\n",
    "    label_str = processor.batch_decode(label_ids, skip_special_tokens=True)\n",
    "\n",
    "    wer_score = wer(label_str, pred_str)\n",
    "    cer_score = cer(label_str, pred_str)\n",
    "    return {\"wer\": wer_score, \"cer\": cer_score}"
   ]
  },
  {
   "cell_type": "code",
   "execution_count": null,
   "id": "2b324ef0-2e03-41be-a153-006c6408e534",
   "metadata": {},
   "outputs": [],
   "source": [
    "# TRAIN & EVALUATE\n",
    "data_collator = DataCollatorCTC(processor=processor, padding=True)\n",
    "\n",
    "trainer = Trainer(\n",
    "    model=model,\n",
    "    args=training_args,\n",
    "    data_collator=data_collator,\n",
    "    compute_metrics=compute_metrics,\n",
    "    train_dataset=dataset['train'],\n",
    "    eval_dataset=dataset['val'],\n",
    "    tokenizer=processor.feature_extractor,\n",
    ")\n",
    "\n",
    "trainer.train()\n",
    "trainer.save_model(SAVE_DIR)\n",
    "processor.save_pretrained(SAVE_DIR)"
   ]
  },
  {
   "cell_type": "code",
   "execution_count": null,
   "id": "1bd5ed8a-d230-4f86-8bf2-d8f480abb1fa",
   "metadata": {},
   "outputs": [],
   "source": []
  }
 ],
 "metadata": {
  "kernelspec": {
   "display_name": "Python 3 (ipykernel)",
   "language": "python",
   "name": "python3"
  },
  "language_info": {
   "codemirror_mode": {
    "name": "ipython",
    "version": 3
   },
   "file_extension": ".py",
   "mimetype": "text/x-python",
   "name": "python",
   "nbconvert_exporter": "python",
   "pygments_lexer": "ipython3",
   "version": "3.13.5"
  }
 },
 "nbformat": 4,
 "nbformat_minor": 5
}
