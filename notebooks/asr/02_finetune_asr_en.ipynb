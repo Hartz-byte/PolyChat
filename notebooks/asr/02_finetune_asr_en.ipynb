{
 "cells": [
  {
   "cell_type": "code",
   "execution_count": 1,
   "id": "20d48b4e-6d09-46f4-b04e-fb4ce201d2dd",
   "metadata": {},
   "outputs": [
    {
     "name": "stderr",
     "output_type": "stream",
     "text": [
      "/mnt/d/ML/Projects/PolyChat/polychat-gpu/lib/python3.13/site-packages/tqdm/auto.py:21: TqdmWarning: IProgress not found. Please update jupyter and ipywidgets. See https://ipywidgets.readthedocs.io/en/stable/user_install.html\n",
      "  from .autonotebook import tqdm as notebook_tqdm\n"
     ]
    }
   ],
   "source": [
    "# Imports\n",
    "import os\n",
    "import json\n",
    "import pandas as pd\n",
    "from datasets import load_dataset, DatasetDict, Audio\n",
    "from transformers import Wav2Vec2Processor, Wav2Vec2ForCTC, TrainingArguments, Trainer\n",
    "from dataclasses import dataclass\n",
    "from typing import Union\n",
    "from jiwer import wer, cer\n",
    "from tqdm import tqdm\n",
    "from pathlib import Path\n",
    "import torch"
   ]
  },
  {
   "cell_type": "code",
   "execution_count": 2,
   "id": "56353fab-fed3-487d-a67a-5de0c6937bc4",
   "metadata": {},
   "outputs": [],
   "source": [
    "# CONFIGURATION\n",
    "LANG = \"en\"\n",
    "DATA_BASE = \"../../data/asr_processed/en\"\n",
    "SAVE_DIR = \"../../models/asr/en\"\n",
    "AUDIO_BASE = Path(\"../../data/asr/en/train\")\n",
    "MODEL_NAME = \"facebook/wav2vec2-base-960h\"\n",
    "SPLITS = [\"train\", \"val\", \"test\"]\n",
    "\n",
    "os.makedirs(SAVE_DIR, exist_ok=True)"
   ]
  },
  {
   "cell_type": "code",
   "execution_count": 3,
   "id": "9e27e9a5-327c-4d85-84b9-011627284a11",
   "metadata": {
    "scrolled": true
   },
   "outputs": [
    {
     "name": "stderr",
     "output_type": "stream",
     "text": [
      "Attaching audio paths: 100%|███████████████████| 9004/9004 [00:01<00:00, 4992.34 examples/s]\n",
      "Attaching audio paths: 100%|█████████████████████| 493/493 [00:00<00:00, 8724.23 examples/s]\n",
      "Attaching audio paths: 100%|█████████████████████| 503/503 [00:00<00:00, 6278.56 examples/s]\n"
     ]
    }
   ],
   "source": [
    "# Load Dataset + Fix paths\n",
    "data_files = {split: os.path.join(DATA_BASE, f\"{split}.csv\") for split in SPLITS}\n",
    "dataset = DatasetDict({\n",
    "    split: load_dataset(\"csv\", data_files={split: path}, split=split)\n",
    "    for split, path in data_files.items()\n",
    "})\n",
    "\n",
    "def add_full_path(example):\n",
    "    example[\"path\"] = os.path.join(AUDIO_BASE, example[\"path\"])\n",
    "    return example\n",
    "\n",
    "dataset = dataset.map(add_full_path, desc=\"Attaching audio paths\")"
   ]
  },
  {
   "cell_type": "code",
   "execution_count": 4,
   "id": "451dcc04-e431-4c4c-950c-a903fc21f14d",
   "metadata": {},
   "outputs": [
    {
     "name": "stdout",
     "output_type": "stream",
     "text": [
      "Building vocabulary from training data...\n"
     ]
    }
   ],
   "source": [
    "# Build Vocabulary\n",
    "print(\"Building vocabulary from training data...\")\n",
    "vocab_set = set(char for text in dataset[\"train\"][\"sentence\"] for char in text.lower())\n",
    "vocab_list = sorted(vocab_set | set([\" \", \"|\"]))\n",
    "vocab_dict = {char: idx for idx, char in enumerate(vocab_list)}\n",
    "\n",
    "vocab_path = os.path.join(SAVE_DIR, \"vocab.json\")\n",
    "with open(vocab_path, \"w\", encoding=\"utf-8\") as f:\n",
    "    json.dump(vocab_dict, f, indent=2, ensure_ascii=False)"
   ]
  },
  {
   "cell_type": "code",
   "execution_count": 5,
   "id": "1a82bbd2-8118-47ac-a1e4-3045c84b8ac6",
   "metadata": {
    "scrolled": true
   },
   "outputs": [],
   "source": [
    "# Load Processor\n",
    "processor = Wav2Vec2Processor.from_pretrained(\n",
    "    MODEL_NAME,\n",
    "    tokenizer_kwargs={\n",
    "        \"vocab_file\": vocab_path,\n",
    "        \"unk_token\": \"[UNK]\",\n",
    "        \"pad_token\": \"[PAD]\",\n",
    "        \"word_delimiter_token\": \"|\"\n",
    "    }\n",
    ")\n",
    "\n",
    "processor.tokenizer.pad_token = \"[PAD]\""
   ]
  },
  {
   "cell_type": "code",
   "execution_count": 6,
   "id": "629eb6de-e4d3-49a7-9cc2-28e2d1b8b28d",
   "metadata": {
    "scrolled": true
   },
   "outputs": [
    {
     "name": "stdout",
     "output_type": "stream",
     "text": [
      "Preprocessing dataset...\n"
     ]
    },
    {
     "name": "stderr",
     "output_type": "stream",
     "text": [
      "Map (num_proc=4): 100%|██████████████████████████| 9004/9004 [09:10<00:00, 16.36 examples/s]\n",
      "Map (num_proc=4): 100%|████████████████████████████| 493/493 [00:27<00:00, 18.02 examples/s]\n",
      "Map (num_proc=4): 100%|████████████████████████████| 503/503 [00:32<00:00, 15.53 examples/s]\n"
     ]
    }
   ],
   "source": [
    "# Preprocess Audio/Text Inputs\n",
    "def prepare_batch(batch, processor):\n",
    "    import torchaudio\n",
    "    from torchaudio.transforms import Resample\n",
    "\n",
    "    waveform, sr = torchaudio.load(batch[\"path\"])\n",
    "\n",
    "    if sr != 16000:\n",
    "        resampler = Resample(orig_freq=sr, new_freq=16000)\n",
    "        waveform = resampler(waveform)\n",
    "\n",
    "    batch[\"input_values\"] = processor(\n",
    "        waveform[0], sampling_rate=16000\n",
    "    ).input_values[0]\n",
    "    batch[\"labels\"] = processor.tokenizer(batch[\"sentence\"]).input_ids\n",
    "    return {\"input_values\": batch[\"input_values\"], \"labels\": batch[\"labels\"]}\n",
    "\n",
    "print(\"Preprocessing dataset...\")\n",
    "dataset = dataset.map(\n",
    "    prepare_batch,\n",
    "    fn_kwargs={\"processor\": processor},\n",
    "    remove_columns=dataset[\"train\"].column_names,\n",
    "    num_proc=4\n",
    ")"
   ]
  },
  {
   "cell_type": "code",
   "execution_count": 7,
   "id": "4e0943ce-acf7-4d9f-b6ca-7f830a556019",
   "metadata": {},
   "outputs": [
    {
     "name": "stderr",
     "output_type": "stream",
     "text": [
      "Some weights of Wav2Vec2ForCTC were not initialized from the model checkpoint at facebook/wav2vec2-base-960h and are newly initialized: ['wav2vec2.masked_spec_embed']\n",
      "You should probably TRAIN this model on a down-stream task to be able to use it for predictions and inference.\n"
     ]
    },
    {
     "name": "stdout",
     "output_type": "stream",
     "text": [
      "Loaded model with vocab size 32\n"
     ]
    }
   ],
   "source": [
    "# Load & Resize Model\n",
    "model = Wav2Vec2ForCTC.from_pretrained(MODEL_NAME, vocab_size=len(processor.tokenizer))\n",
    "print(f\"Loaded model with vocab size {model.config.vocab_size}\")"
   ]
  },
  {
   "cell_type": "code",
   "execution_count": 8,
   "id": "981d9088-2f9c-474d-b227-abf5b8ec3e8b",
   "metadata": {},
   "outputs": [],
   "source": [
    "# Data Collator\n",
    "@dataclass\n",
    "class DataCollatorCTC:\n",
    "    processor: Wav2Vec2Processor\n",
    "    padding: Union[bool, str] = True\n",
    "\n",
    "    def __call__(self, features):\n",
    "        input_features = [{\"input_values\": f[\"input_values\"]} for f in features]\n",
    "        label_features = [{\"input_ids\": f[\"labels\"]} for f in features]\n",
    "\n",
    "        batch = self.processor.feature_extractor.pad(input_features, padding=self.padding, return_tensors=\"pt\")\n",
    "        with self.processor.as_target_processor():\n",
    "            labels_batch = self.processor.tokenizer.pad(label_features, padding=self.padding, return_tensors=\"pt\")\n",
    "\n",
    "        batch[\"labels\"] = labels_batch[\"input_ids\"].masked_fill(\n",
    "            labels_batch[\"input_ids\"] == self.processor.tokenizer.pad_token_id, -100\n",
    "        )\n",
    "\n",
    "        return batch"
   ]
  },
  {
   "cell_type": "code",
   "execution_count": 9,
   "id": "2b324ef0-2e03-41be-a153-006c6408e534",
   "metadata": {},
   "outputs": [],
   "source": [
    "# Training Arguments\n",
    "training_args = TrainingArguments(\n",
    "    output_dir=SAVE_DIR,\n",
    "    eval_strategy=\"steps\",\n",
    "    save_strategy=\"steps\",\n",
    "    logging_strategy=\"steps\",\n",
    "    logging_steps=100,\n",
    "    eval_steps=500,\n",
    "    save_steps=1000,\n",
    "    num_train_epochs=3,\n",
    "    per_device_train_batch_size=4,\n",
    "    per_device_eval_batch_size=2,\n",
    "    learning_rate=1e-4,\n",
    "    warmup_steps=500,\n",
    "    save_total_limit=2,\n",
    "    group_by_length=False,\n",
    "    dataloader_num_workers=0,\n",
    "    fp16=False,\n",
    "    load_best_model_at_end=True,\n",
    "    metric_for_best_model=\"wer\",\n",
    "    greater_is_better=False,\n",
    "    report_to=\"none\",\n",
    "    push_to_hub=False\n",
    ")"
   ]
  },
  {
   "cell_type": "code",
   "execution_count": 10,
   "id": "1bd5ed8a-d230-4f86-8bf2-d8f480abb1fa",
   "metadata": {},
   "outputs": [],
   "source": [
    "# Metrics\n",
    "def compute_metrics(pred):\n",
    "    pred_ids = pred.predictions\n",
    "    label_ids = pred.label_ids\n",
    "    pred_str = processor.batch_decode(pred_ids, skip_special_tokens=True)\n",
    "    label_ids[label_ids == -100] = processor.tokenizer.pad_token_id\n",
    "    label_str = processor.batch_decode(label_ids, skip_special_tokens=True)\n",
    "    return {\"wer\": wer(label_str, pred_str), \"cer\": cer(label_str, pred_str)}"
   ]
  },
  {
   "cell_type": "code",
   "execution_count": 11,
   "id": "9728b70c-8b10-4416-89c1-69b02e0718fc",
   "metadata": {},
   "outputs": [],
   "source": [
    "# Trainer\n",
    "data_collator = DataCollatorCTC(processor=processor)\n",
    "trainer = Trainer(\n",
    "    model=model,\n",
    "    args=training_args,\n",
    "    data_collator=data_collator,\n",
    "    compute_metrics=compute_metrics,\n",
    "    train_dataset=dataset[\"train\"],\n",
    "    eval_dataset=dataset[\"val\"]\n",
    ")"
   ]
  },
  {
   "cell_type": "code",
   "execution_count": null,
   "id": "003f340d-b1cf-41c9-aec8-c97a6b8d5fe0",
   "metadata": {},
   "outputs": [
    {
     "name": "stdout",
     "output_type": "stream",
     "text": [
      "Starting training...\n"
     ]
    },
    {
     "name": "stderr",
     "output_type": "stream",
     "text": [
      "/mnt/d/ML/Projects/PolyChat/polychat-gpu/lib/python3.13/site-packages/transformers/models/wav2vec2/processing_wav2vec2.py:170: UserWarning: `as_target_processor` is deprecated and will be removed in v5 of Transformers. You can process your labels by using the argument `text` of the regular `__call__` method (either in the same call as your audio inputs, or in a separate call.\n",
      "  warnings.warn(\n"
     ]
    },
    {
     "data": {
      "text/html": [
       "\n",
       "    <div>\n",
       "      \n",
       "      <progress value='98' max='6753' style='width:300px; height:20px; vertical-align: middle;'></progress>\n",
       "      [  98/6753 03:35 < 4:09:04, 0.45 it/s, Epoch 0.04/3]\n",
       "    </div>\n",
       "    <table border=\"1\" class=\"dataframe\">\n",
       "  <thead>\n",
       " <tr style=\"text-align: left;\">\n",
       "      <th>Step</th>\n",
       "      <th>Training Loss</th>\n",
       "      <th>Validation Loss</th>\n",
       "    </tr>\n",
       "  </thead>\n",
       "  <tbody>\n",
       "  </tbody>\n",
       "</table><p>"
      ],
      "text/plain": [
       "<IPython.core.display.HTML object>"
      ]
     },
     "metadata": {},
     "output_type": "display_data"
    }
   ],
   "source": [
    "# Start Training\n",
    "print(\"Starting training...\")\n",
    "trainer.train()"
   ]
  },
  {
   "cell_type": "code",
   "execution_count": null,
   "id": "366fe67d-f529-403d-a763-95455998d76e",
   "metadata": {},
   "outputs": [],
   "source": [
    "# Evaluate\n",
    "print(\"Evaluating on test set...\")\n",
    "test_result = trainer.evaluate(dataset[\"test\"])\n",
    "print(f\"Final Test WER: {test_result['eval_wer']:.4f} | CER: {test_result['eval_cer']:.4f}\")"
   ]
  },
  {
   "cell_type": "code",
   "execution_count": null,
   "id": "2c56d74d-e856-49ae-8ec5-21700bde0b57",
   "metadata": {},
   "outputs": [],
   "source": [
    "# Save Processor and Model\n",
    "trainer.save_model(SAVE_DIR)\n",
    "processor.save_pretrained(SAVE_DIR)\n",
    "\n",
    "print(f\"Model and processor saved to {SAVE_DIR}\")"
   ]
  },
  {
   "cell_type": "code",
   "execution_count": null,
   "id": "4cbc46be-a3bb-43de-b379-c91c0caabcbd",
   "metadata": {},
   "outputs": [],
   "source": []
  }
 ],
 "metadata": {
  "kernelspec": {
   "display_name": "Python 3 (ipykernel)",
   "language": "python",
   "name": "python3"
  },
  "language_info": {
   "codemirror_mode": {
    "name": "ipython",
    "version": 3
   },
   "file_extension": ".py",
   "mimetype": "text/x-python",
   "name": "python",
   "nbconvert_exporter": "python",
   "pygments_lexer": "ipython3",
   "version": "3.13.5"
  }
 },
 "nbformat": 4,
 "nbformat_minor": 5
}
